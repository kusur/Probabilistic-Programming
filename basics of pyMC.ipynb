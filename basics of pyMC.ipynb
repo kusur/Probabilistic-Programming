{
 "metadata": {
  "name": "",
  "signature": "sha256:bbba2a88b252991cbfcbf2d7fec5816aba91d713cb690ffd08be8470e895e99a"
 },
 "nbformat": 3,
 "nbformat_minor": 0,
 "worksheets": [
  {
   "cells": [
    {
     "cell_type": "code",
     "collapsed": false,
     "input": [
      "import pymc as pm\n",
      "\n",
      "parameter = pm.Exponential(\"poisson_param\",1)\n",
      "data_generator = pm.Poisson(\"data_generator\",parameter)\n",
      "data_plus_one = data_generator + 1\n",
      "\n",
      "print \"Children of parameter\"\n",
      "print parameter.children\n",
      "print \"\\nParent of data_generator\"\n",
      "print data_generator.parents\n",
      "print \"\\nChildren of data_generator\"\n",
      "print data_generator.children"
     ],
     "language": "python",
     "metadata": {},
     "outputs": [
      {
       "output_type": "stream",
       "stream": "stdout",
       "text": [
        "Children of parameter\n",
        "set([<pymc.distributions.Poisson 'data_generator' at 0xa9bc41ac>])\n",
        "\n",
        "Parent of data_generator\n",
        "{'mu': <pymc.distributions.Exponential 'poisson_param' at 0xa9bbee6c>}\n",
        "\n",
        "Children of data_generator\n",
        "set([<pymc.PyMCObjects.Deterministic '(data_generator_add_1)' at 0xa9bc41ec>])\n"
       ]
      }
     ],
     "prompt_number": 1
    },
    {
     "cell_type": "code",
     "collapsed": false,
     "input": [
      "import pymc as pm\n",
      "\n",
      "parameter = pm.Exponential(\"poisson_param\",1)\n",
      "data_generator = pm.Poisson(\"data_generator\",parameter)\n",
      "data_plus_one = data_generator + 1\n",
      "\n",
      "print parameter.value\n",
      "print data_generator.value\n",
      "print data_plus_one.value"
     ],
     "language": "python",
     "metadata": {},
     "outputs": [
      {
       "output_type": "stream",
       "stream": "stdout",
       "text": [
        "1.8408313492\n",
        "2\n",
        "3\n"
       ]
      }
     ],
     "prompt_number": 4
    },
    {
     "cell_type": "code",
     "collapsed": false,
     "input": [
      "import pymc as pm\n",
      "\n",
      "lambda_1 = pm.Exponential(\"lambda_1\",1) #prior on first behaviour\n",
      "lambda_2 = pm.Exponential(\"lambda_2\",1) #prior on second behaviour\n",
      "tau = pm.DiscreteUniform(\"tau\",lower=0,upper=10) #prior on behaviour'\n",
      "\n",
      "print \"lambda_1.value = %.3f\" % lambda_1.value\n",
      "print \"lambda_2.value =%.3f\" % lambda_2.value\n",
      "print \"tau.value =%.3f\" % tau.value\n",
      "\n",
      "lambda_1.random(), lambda_2.random(), tau.random()\n",
      "\n",
      "print \"After calling the random function on the variables-\"\n",
      "print \"lambda_1.value = %.3f\" % lambda_1.value\n",
      "print \"lambda_2.value =%.3f\" % lambda_2.value\n",
      "print \"tau.value =%.3f\" % tau.value"
     ],
     "language": "python",
     "metadata": {},
     "outputs": [
      {
       "output_type": "stream",
       "stream": "stdout",
       "text": [
        "lambda_1.value = 0.161\n",
        "lambda_2.value =2.349\n",
        "tau.value =7.000\n",
        "After calling the random function on the variables-\n",
        "lambda_1.value = 0.119\n",
        "lambda_2.value =0.259\n",
        "tau.value =4.000\n"
       ]
      }
     ],
     "prompt_number": 5
    },
    {
     "cell_type": "code",
     "collapsed": false,
     "input": [
      "%matplotlib inline\n",
      "from IPython.core.pylabtools import figsize\n",
      "from matplotlib import pyplot as plt\n",
      "\n",
      "lambda_1 = pm.Exponential(\"lambda_1\",1)\n",
      "lambda_2 = pm.Exponential(\"lambda_2\",1)\n",
      "\n",
      "samples = [lambda_1.random() for i in range(20000)]\n",
      "plt.hist(samples,bins=70,normed=True,histtype=\"stepfilled\")\n",
      "plt.title(\"Prior distribution for $\\lambda_1$\")\n",
      "plt.xlim(0,8)"
     ],
     "language": "python",
     "metadata": {},
     "outputs": [
      {
       "metadata": {},
       "output_type": "pyout",
       "prompt_number": 6,
       "text": [
        "(0, 8)"
       ]
      },
      {
       "metadata": {},
       "output_type": "display_data",
       "png": "[encoded data removed]",
       "text": [
        "<matplotlib.figure.Figure at 0xa9bdbf6c>"
       ]
      }
     ],
     "prompt_number": 6
    },
    {
     "cell_type": "code",
     "collapsed": false,
     "input": [
      "import numpy as np\n",
      "import pymc as pm\n",
      "\n",
      "data = np.array([10,5])\n",
      "fixed_variable = pm.Poisson(\"fxd\",1,value=data,observed=True)\n",
      "print \"value:\", fixed_variable.value\n",
      "print \"Calling random()\"\n",
      "fixed_variable.random()\n",
      "print \"value:\", fixed_variable.value"
     ],
     "language": "python",
     "metadata": {},
     "outputs": [
      {
       "output_type": "stream",
       "stream": "stdout",
       "text": [
        "value: [10  5]\n",
        "Calling random()\n",
        "value: [10  5]\n"
       ]
      }
     ],
     "prompt_number": 7
    },
    {
     "cell_type": "code",
     "collapsed": false,
     "input": [
      "import numpy as np\n",
      "import pymc as pm\n",
      "\n",
      "lambda_1 = pm.Exponential(\"lambda_1\",1)\n",
      "lambda_2 = pm.Exponential(\"lambda_2\",1)\n",
      "tau = pm.DiscreteUniform(\"tau\",lower=0,upper=10)\n",
      "\n",
      "@pm.deterministic\n",
      "def lambda_(tau=tau,lambda_1=lambda_1,lambda_2=lambda_2):\n",
      "    out = np.zeros(5)\n",
      "    out[:tau]=lambda_1\n",
      "    out[tau:]=lambda_2\n",
      "    return out\n",
      "\n",
      "data = np.array([10,25,15,20,35])\n",
      "obs = pm.Poisson(\"obs\",lambda_,value=data,observed=True)\n",
      "model = pm.Model([obs,lambda_,lambda_1,lambda_2,tau])\n",
      "\n",
      "mcmc = pm.MCMC(model)\n",
      "mcmc.sample(40000,10000,1)"
     ],
     "language": "python",
     "metadata": {},
     "outputs": [
      {
       "output_type": "stream",
       "stream": "stdout",
       "text": [
        "\r",
        " [--                5%                  ] 2295 of 40000 complete in 0.5 sec"
       ]
      },
      {
       "output_type": "stream",
       "stream": "stdout",
       "text": [
        "\r",
        " [----             11%                  ] 4622 of 40000 complete in 1.0 sec"
       ]
      },
      {
       "output_type": "stream",
       "stream": "stdout",
       "text": [
        "\r",
        " [------           17%                  ] 6949 of 40000 complete in 1.5 sec"
       ]
      },
      {
       "output_type": "stream",
       "stream": "stdout",
       "text": [
        "\r",
        " [--------         23%                  ] 9284 of 40000 complete in 2.0 sec"
       ]
      },
      {
       "output_type": "stream",
       "stream": "stdout",
       "text": [
        "\r",
        " [----------       28%                  ] 11260 of 40000 complete in 2.5 sec"
       ]
      },
      {
       "output_type": "stream",
       "stream": "stdout",
       "text": [
        "\r",
        " [------------     32%                  ] 13081 of 40000 complete in 3.0 sec"
       ]
      },
      {
       "output_type": "stream",
       "stream": "stdout",
       "text": [
        "\r",
        " [--------------   37%                  ] 14897 of 40000 complete in 3.5 sec"
       ]
      },
      {
       "output_type": "stream",
       "stream": "stdout",
       "text": [
        "\r",
        " [---------------  41%                  ] 16710 of 40000 complete in 4.0 sec"
       ]
      },
      {
       "output_type": "stream",
       "stream": "stdout",
       "text": [
        "\r",
        " [-----------------46%                  ] 18527 of 40000 complete in 4.5 sec"
       ]
      },
      {
       "output_type": "stream",
       "stream": "stdout",
       "text": [
        "\r",
        " [-----------------50%                  ] 20342 of 40000 complete in 5.0 sec"
       ]
      },
      {
       "output_type": "stream",
       "stream": "stdout",
       "text": [
        "\r",
        " [-----------------55%-                 ] 22159 of 40000 complete in 5.5 sec"
       ]
      },
      {
       "output_type": "stream",
       "stream": "stdout",
       "text": [
        "\r",
        " [-----------------59%--                ] 23978 of 40000 complete in 6.0 sec"
       ]
      },
      {
       "output_type": "stream",
       "stream": "stdout",
       "text": [
        "\r",
        " [-----------------64%----              ] 25799 of 40000 complete in 6.5 sec"
       ]
      },
      {
       "output_type": "stream",
       "stream": "stdout",
       "text": [
        "\r",
        " [-----------------69%------            ] 27619 of 40000 complete in 7.0 sec"
       ]
      },
      {
       "output_type": "stream",
       "stream": "stdout",
       "text": [
        "\r",
        " [-----------------73%-------           ] 29440 of 40000 complete in 7.5 sec"
       ]
      },
      {
       "output_type": "stream",
       "stream": "stdout",
       "text": [
        "\r",
        " [-----------------78%---------         ] 31257 of 40000 complete in 8.0 sec"
       ]
      },
      {
       "output_type": "stream",
       "stream": "stdout",
       "text": [
        "\r",
        " [-----------------82%-----------       ] 33080 of 40000 complete in 8.5 sec"
       ]
      },
      {
       "output_type": "stream",
       "stream": "stdout",
       "text": [
        "\r",
        " [-----------------87%-------------     ] 34903 of 40000 complete in 9.0 sec"
       ]
      },
      {
       "output_type": "stream",
       "stream": "stdout",
       "text": [
        "\r",
        " [-----------------91%--------------    ] 36721 of 40000 complete in 9.5 sec"
       ]
      },
      {
       "output_type": "stream",
       "stream": "stdout",
       "text": [
        "\r",
        " [-----------------96%----------------  ] 38541 of 40000 complete in 10.0 sec"
       ]
      },
      {
       "output_type": "stream",
       "stream": "stdout",
       "text": [
        "\r",
        " [-----------------100%-----------------] 40000 of 40000 complete in 10.4 sec"
       ]
      }
     ],
     "prompt_number": 8
    },
    {
     "cell_type": "code",
     "collapsed": false,
     "input": [
      "import numpy as np\n",
      "import scipy.stats as stats\n",
      "import pymc as pm\n",
      "from IPython.core.pylabtools import figsize\n",
      "from matplotlib import pyplot as plt\n",
      "\n",
      "tau = pm.rdiscrete_uniform(0,80)\n",
      "alpha=1./20.\n",
      "lambda_1,lambda_2=pm.rexponential(alpha,2)\n",
      "data = np.r_[pm.rpoisson(lambda_1,tau),pm.rpoisson(lambda_2,80-tau)]\n",
      "plt.bar(np.arange(80),data,color=\"#348ABD\")\n",
      "plt.bar(tau-1,data[tau-1],color=\"r\",label=\"User behaviour changed\")\n",
      "plt.xlabel(\"Time(days)\")\n",
      "plt.ylabel(\"count of text-msgs recieved\")\n",
      "plt.title(\"Artificial Dataset\")\n",
      "plt.xlim(0,80)\n",
      "plt.legend()"
     ],
     "language": "python",
     "metadata": {},
     "outputs": [
      {
       "metadata": {},
       "output_type": "pyout",
       "prompt_number": 9,
       "text": [
        "<matplotlib.legend.Legend at 0xa9833fac>"
       ]
      },
      {
       "metadata": {},
       "output_type": "display_data",
       "png": "[encoded data removed]",
       "text": [
        "<matplotlib.figure.Figure at 0xa99c4dcc>"
       ]
      }
     ],
     "prompt_number": 9
    },
    {
     "cell_type": "code",
     "collapsed": false,
     "input": [
      "import numpy as np\n",
      "import scipy.stats as stats\n",
      "import pymc as pm\n",
      "from IPython.core.pylabtools import figsize\n",
      "from matplotlib import pyplot as plt\n",
      "\n",
      "def plot_artificial_sms_dataset():\n",
      "    tau = pm.rdiscrete_uniform(0,80)\n",
      "    alpha = 1./20.\n",
      "    lambda_1,lambda_2 = pm.rexponential(alpha,2)\n",
      "    data = np.r_[pm.rpoisson(lambda_1,tau),pm.rpoisson(lambda_2,80-tau)]\n",
      "    plt.bar(np.arange(80), data, color=\"#348ABD\")\n",
      "    plt.bar(tau - 1, data[tau - 1], color=\"r\", label=\"user behaviour changed\")\n",
      "    plt.xlim(0, 80)\n",
      "    \n",
      "figsize(12.5, 5)\n",
      "plt.title(\"More example of artificial datasets\")\n",
      "for i in range(4):\n",
      "    plt.subplot(4, 1, i)\n",
      "    plot_artificial_sms_dataset()"
     ],
     "language": "python",
     "metadata": {},
     "outputs": [
      {
       "metadata": {},
       "output_type": "display_data",
       "png": "[encoded data removed]",
       "text": [
        "<matplotlib.figure.Figure at 0xa96b320c>"
       ]
      }
     ],
     "prompt_number": 12
    },
    {
     "cell_type": "code",
     "collapsed": false,
     "input": [],
     "language": "python",
     "metadata": {},
     "outputs": []
    }
   ],
   "metadata": {}
  }
 ]
}