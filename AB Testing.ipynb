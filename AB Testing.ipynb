{
 "metadata": {
  "name": "",
  "signature": "sha256:cc571db2c1e5ebebd444054b3585056fa56edc233818c35a64fdc2f60bcdabfe"
 },
 "nbformat": 3,
 "nbformat_minor": 0,
 "worksheets": [
  {
   "cells": [
    {
     "cell_type": "code",
     "collapsed": false,
     "input": [
      "%matplotlib inline\n",
      "from IPython.core.pylabtools import figsize\n",
      "from matplotlib import pyplot as plt\n",
      "import pymc as pm\n",
      "p = pm.Uniform('p',lower=0,upper=1)\n",
      "\n",
      "#set constraints\n",
      "p_true = 0.05\n",
      "N = 1500\n",
      "\n",
      "#Sample N Bernoulli random variables from Ber(0.05).\n",
      "#Each random variable has a 0.05 chance of being a 1.\n",
      "#this is the data generation step\n",
      "occurences = pm.rbernoulli(p_true,N)\n",
      "\n",
      "#occurences.sum() is equal to the observed frequency\n",
      "#occurences.mean() is equal to n/N\n",
      "print \"What is the observed frequence in the Group A? %.4f\" %occurences.mean()\n",
      "print \"Does this equal the true ratio? %.4f\" % (occurences.mean()==p_true)\n",
      "\n",
      "#Creating the observed values and putting them into the algorithm\n",
      "obs = pm.Bernoulli('obs',p,value=occurences,observed=True)\n",
      "mcmc = pm.MCMC([p,obs])\n",
      "mcmc.sample(18000,1000)\n",
      "\n",
      "figsize(12.5,4)\n",
      "plt.title(\"Posterior distribution of $p_A$, the true effectiveness of site A\")\n",
      "plt.vlines(p_true,0,90,linestyle=\"--\",label=\"true $p_A$ (unknown)\")\n",
      "plt.hist(mcmc.trace(\"p\")[:],bins=25,histtype=\"stepfilled\",normed=True)\n",
      "plt.legend()"
     ],
     "language": "python",
     "metadata": {},
     "outputs": [
      {
       "output_type": "stream",
       "stream": "stdout",
       "text": [
        "What is the observed frequence in the Group A? 0.0580\n",
        "Does this equal the true ratio? 0.0000\n",
        "\r"
       ]
      },
      {
       "output_type": "stream",
       "stream": "stdout",
       "text": [
        " [---------        25%                  ] 4595 of 18000 complete in 0.5 sec"
       ]
      },
      {
       "output_type": "stream",
       "stream": "stdout",
       "text": [
        "\r",
        " [-----------------46%                  ] 8287 of 18000 complete in 1.0 sec"
       ]
      },
      {
       "output_type": "stream",
       "stream": "stdout",
       "text": [
        "\r",
        " [-----------------65%----              ] 11773 of 18000 complete in 1.5 sec"
       ]
      },
      {
       "output_type": "stream",
       "stream": "stdout",
       "text": [
        "\r",
        " [-----------------83%-----------       ] 15087 of 18000 complete in 2.0 sec"
       ]
      },
      {
       "output_type": "stream",
       "stream": "stdout",
       "text": [
        "\r",
        " [-----------------100%-----------------] 18000 of 18000 complete in 2.4 sec"
       ]
      },
      {
       "metadata": {},
       "output_type": "pyout",
       "prompt_number": 9,
       "text": [
        "<matplotlib.legend.Legend at 0xa9e4058c>"
       ]
      },
      {
       "metadata": {},
       "output_type": "display_data",
       "png": "[encoded data removed]",
       "text": [
        "<matplotlib.figure.Figure at 0xa9e85bcc>"
       ]
      }
     ],
     "prompt_number": 9
    },
    {
     "cell_type": "code",
     "collapsed": false,
     "input": [
      "%matplotlib inline\n",
      "from IPython.core.pylabtools import figsize\n",
      "from matplotlib import pyplot as plt\n",
      "import pymc as pm\n",
      "\n",
      "figsize(12,4)\n",
      "\n",
      "#these two quantities are unknown to us\n",
      "true_p_A = 0.05\n",
      "true_p_B = 0.04\n",
      "\n",
      "#sample sizes for A and B\n",
      "N_A = 15000\n",
      "N_B = 15000\n",
      "\n",
      "#generate some observations\n",
      "observations_A = pm.rbernoulli(true_p_A,N_A)\n",
      "observations_B = pm.rbernoulli(true_p_B,N_B)\n",
      "\n",
      "#set up the pymc model. Again assume Uniform priors for p_A and p_B\n",
      "p_A = pm.Uniform(\"p_A\",0,1)\n",
      "p_B = pm.Uniform(\"p_B\",0,1)\n",
      "\n",
      "#defining the deterministic delta function.\n",
      "@pm.deterministic\n",
      "def delta(p_A=p_A,p_B=p_B):\n",
      "    return p_A - p_B\n",
      "\n",
      "#Set of observationsm in this case we have two sets of observation datasets\n",
      "obs_A = pm.Bernoulli(\"obs_A\",p_A,value=observations_A,observed=True)\n",
      "obs_B = pm.Bernoulli(\"obs_B\",p_B,value=observations_B,observed=True)\n",
      "\n",
      "#Executing MCMC\n",
      "mcmc = pm.MCMC([p_A,p_B,delta,obs_A,obs_B])\n",
      "mcmc.sample(20000,1000)\n",
      "\n",
      "#retrieving the trace from the MCMC model\n",
      "p_A_samples = mcmc.trace(\"p_A\")[:]\n",
      "p_B_samples = mcmc.trace(\"p_B\")[:]\n",
      "delta_samples = mcmc.trace(\"delta\")[:]\n",
      "\n",
      "figsize(12.5,4)\n",
      "\n",
      "#histogram of posteriors\n",
      "\n",
      "ax = plt.subplot(311)\n",
      "\n",
      "plt.xlim(0,.1)\n",
      "plt.hist(p_A_samples,histtype=\"stepfilled\",bins=25,alpha=0.85,\n",
      "         label=\"posterior of $p_A$\", color=\"#A60628\",normed=True)\n",
      "\n",
      "plt.vlines(true_p_A,0,80,linestyle=\"--\",label=\"true $p_A$ (unknown)\")\n",
      "plt.legend(loc=\"upper right\")\n",
      "plt.title(\"Posterior distribution of $p_A$, $p_B$, and delta unknowns\")\n",
      "\n",
      "ax = plt.subplot(312)\n",
      "\n",
      "plt.xlim(0,0.1)\n",
      "plt.hist(p_B_samples,histtype=\"stepfilled\",bins=25,alpha=0.85,\n",
      "         label=\"posterior of $p_B$\",color=\"#467821\",normed=True)\n",
      "plt.vlines(true_p_B,0,80,linestyle=\"--\",label=\"true $p_B$ (unknown)\")\n",
      "plt.legend(loc=\"upper right\")\n",
      "\n",
      "ax = plt.subplot(313)\n",
      "\n",
      "plt.xlim(0,0.1)\n",
      "plt.hist(delta_samples,histtype='stepfilled',bins=30,alpha=0.85,\n",
      "         label=\"posterior of delta\",color=\"#7A68A6\",normed=True)\n",
      "plt.vlines(true_p_A-true_p_B,0,60,linestyle=\"--\",\n",
      "           label=\"true delta (unknown)\")\n",
      "plt.vlines(0,0,60,color=\"black\",alpha=0.2)\n",
      "plt.legend(loc=\"upper right\")\n",
      "\n",
      "print (delta_samples<0).mean()\n",
      "print (delta_samples>0).mean()"
     ],
     "language": "python",
     "metadata": {},
     "outputs": [
      {
       "output_type": "stream",
       "stream": "stdout",
       "text": [
        "\r",
        " [-                 3%                  ] 617 of 20000 complete in 0.5 sec"
       ]
      },
      {
       "output_type": "stream",
       "stream": "stdout",
       "text": [
        "\r",
        " [--                5%                  ] 1158 of 20000 complete in 1.0 sec"
       ]
      },
      {
       "output_type": "stream",
       "stream": "stdout",
       "text": [
        "\r",
        " [---               8%                  ] 1610 of 20000 complete in 1.5 sec"
       ]
      },
      {
       "output_type": "stream",
       "stream": "stdout",
       "text": [
        "\r",
        " [---              10%                  ] 2062 of 20000 complete in 2.0 sec"
       ]
      },
      {
       "output_type": "stream",
       "stream": "stdout",
       "text": [
        "\r",
        " [----             12%                  ] 2451 of 20000 complete in 2.5 sec"
       ]
      },
      {
       "output_type": "stream",
       "stream": "stdout",
       "text": [
        "\r",
        " [-----            14%                  ] 2842 of 20000 complete in 3.0 sec"
       ]
      },
      {
       "output_type": "stream",
       "stream": "stdout",
       "text": [
        "\r",
        " [------           16%                  ] 3217 of 20000 complete in 3.5 sec"
       ]
      },
      {
       "output_type": "stream",
       "stream": "stdout",
       "text": [
        "\r",
        " [------           17%                  ] 3576 of 20000 complete in 4.0 sec"
       ]
      },
      {
       "output_type": "stream",
       "stream": "stdout",
       "text": [
        "\r",
        " [-------          19%                  ] 3938 of 20000 complete in 4.5 sec"
       ]
      },
      {
       "output_type": "stream",
       "stream": "stdout",
       "text": [
        "\r",
        " [--------         21%                  ] 4267 of 20000 complete in 5.0 sec"
       ]
      },
      {
       "output_type": "stream",
       "stream": "stdout",
       "text": [
        "\r",
        " [--------         22%                  ] 4594 of 20000 complete in 5.5 sec"
       ]
      },
      {
       "output_type": "stream",
       "stream": "stdout",
       "text": [
        "\r",
        " [---------        24%                  ] 4922 of 20000 complete in 6.0 sec"
       ]
      },
      {
       "output_type": "stream",
       "stream": "stdout",
       "text": [
        "\r",
        " [---------        26%                  ] 5244 of 20000 complete in 6.5 sec"
       ]
      },
      {
       "output_type": "stream",
       "stream": "stdout",
       "text": [
        "\r",
        " [----------       27%                  ] 5558 of 20000 complete in 7.0 sec"
       ]
      },
      {
       "output_type": "stream",
       "stream": "stdout",
       "text": [
        "\r",
        " [-----------      29%                  ] 5883 of 20000 complete in 7.5 sec"
       ]
      },
      {
       "output_type": "stream",
       "stream": "stdout",
       "text": [
        "\r",
        " [-----------      30%                  ] 6197 of 20000 complete in 8.0 sec"
       ]
      },
      {
       "output_type": "stream",
       "stream": "stdout",
       "text": [
        "\r",
        " [------------     32%                  ] 6508 of 20000 complete in 8.5 sec"
       ]
      },
      {
       "output_type": "stream",
       "stream": "stdout",
       "text": [
        "\r",
        " [------------     34%                  ] 6823 of 20000 complete in 9.0 sec"
       ]
      },
      {
       "output_type": "stream",
       "stream": "stdout",
       "text": [
        "\r",
        " [-------------    35%                  ] 7135 of 20000 complete in 9.5 sec"
       ]
      },
      {
       "output_type": "stream",
       "stream": "stdout",
       "text": [
        "\r",
        " [--------------   37%                  ] 7447 of 20000 complete in 10.0 sec"
       ]
      },
      {
       "output_type": "stream",
       "stream": "stdout",
       "text": [
        "\r",
        " [--------------   38%                  ] 7757 of 20000 complete in 10.5 sec"
       ]
      },
      {
       "output_type": "stream",
       "stream": "stdout",
       "text": [
        "\r",
        " [---------------  40%                  ] 8066 of 20000 complete in 11.0 sec"
       ]
      },
      {
       "output_type": "stream",
       "stream": "stdout",
       "text": [
        "\r",
        " [---------------  41%                  ] 8373 of 20000 complete in 11.5 sec"
       ]
      },
      {
       "output_type": "stream",
       "stream": "stdout",
       "text": [
        "\r",
        " [---------------- 43%                  ] 8681 of 20000 complete in 12.0 sec"
       ]
      },
      {
       "output_type": "stream",
       "stream": "stdout",
       "text": [
        "\r",
        " [-----------------44%                  ] 8989 of 20000 complete in 12.5 sec"
       ]
      },
      {
       "output_type": "stream",
       "stream": "stdout",
       "text": [
        "\r",
        " [-----------------46%                  ] 9295 of 20000 complete in 13.0 sec"
       ]
      },
      {
       "output_type": "stream",
       "stream": "stdout",
       "text": [
        "\r",
        " [-----------------48%                  ] 9600 of 20000 complete in 13.5 sec"
       ]
      },
      {
       "output_type": "stream",
       "stream": "stdout",
       "text": [
        "\r",
        " [-----------------49%                  ] 9905 of 20000 complete in 14.0 sec"
       ]
      },
      {
       "output_type": "stream",
       "stream": "stdout",
       "text": [
        "\r",
        " [-----------------51%                  ] 10211 of 20000 complete in 14.5 sec"
       ]
      },
      {
       "output_type": "stream",
       "stream": "stdout",
       "text": [
        "\r",
        " [-----------------52%                  ] 10516 of 20000 complete in 15.0 sec"
       ]
      },
      {
       "output_type": "stream",
       "stream": "stdout",
       "text": [
        "\r",
        " [-----------------54%                  ] 10821 of 20000 complete in 15.5 sec"
       ]
      },
      {
       "output_type": "stream",
       "stream": "stdout",
       "text": [
        "\r",
        " [-----------------55%-                 ] 11124 of 20000 complete in 16.0 sec"
       ]
      },
      {
       "output_type": "stream",
       "stream": "stdout",
       "text": [
        "\r",
        " [-----------------57%-                 ] 11427 of 20000 complete in 16.5 sec"
       ]
      },
      {
       "output_type": "stream",
       "stream": "stdout",
       "text": [
        "\r",
        " [-----------------58%--                ] 11728 of 20000 complete in 17.0 sec"
       ]
      },
      {
       "output_type": "stream",
       "stream": "stdout",
       "text": [
        "\r",
        " [-----------------60%--                ] 12029 of 20000 complete in 17.5 sec"
       ]
      },
      {
       "output_type": "stream",
       "stream": "stdout",
       "text": [
        "\r",
        " [-----------------61%---               ] 12321 of 20000 complete in 18.0 sec"
       ]
      },
      {
       "output_type": "stream",
       "stream": "stdout",
       "text": [
        "\r",
        " [-----------------63%---               ] 12623 of 20000 complete in 18.5 sec"
       ]
      },
      {
       "output_type": "stream",
       "stream": "stdout",
       "text": [
        "\r",
        " [-----------------64%----              ] 12927 of 20000 complete in 19.0 sec"
       ]
      },
      {
       "output_type": "stream",
       "stream": "stdout",
       "text": [
        "\r",
        " [-----------------66%-----             ] 13230 of 20000 complete in 19.5 sec"
       ]
      },
      {
       "output_type": "stream",
       "stream": "stdout",
       "text": [
        "\r",
        " [-----------------67%-----             ] 13533 of 20000 complete in 20.0 sec"
       ]
      },
      {
       "output_type": "stream",
       "stream": "stdout",
       "text": [
        "\r",
        " [-----------------69%------            ] 13836 of 20000 complete in 20.5 sec"
       ]
      },
      {
       "output_type": "stream",
       "stream": "stdout",
       "text": [
        "\r",
        " [-----------------70%------            ] 14139 of 20000 complete in 21.0 sec"
       ]
      },
      {
       "output_type": "stream",
       "stream": "stdout",
       "text": [
        "\r",
        " [-----------------72%-------           ] 14442 of 20000 complete in 21.5 sec"
       ]
      },
      {
       "output_type": "stream",
       "stream": "stdout",
       "text": [
        "\r",
        " [-----------------73%--------          ] 14745 of 20000 complete in 22.0 sec"
       ]
      },
      {
       "output_type": "stream",
       "stream": "stdout",
       "text": [
        "\r",
        " [-----------------75%--------          ] 15041 of 20000 complete in 22.5 sec"
       ]
      },
      {
       "output_type": "stream",
       "stream": "stdout",
       "text": [
        "\r",
        " [-----------------76%---------         ] 15329 of 20000 complete in 23.0 sec"
       ]
      },
      {
       "output_type": "stream",
       "stream": "stdout",
       "text": [
        "\r",
        " [-----------------78%---------         ] 15627 of 20000 complete in 23.5 sec"
       ]
      },
      {
       "output_type": "stream",
       "stream": "stdout",
       "text": [
        "\r",
        " [-----------------79%----------        ] 15924 of 20000 complete in 24.0 sec"
       ]
      },
      {
       "output_type": "stream",
       "stream": "stdout",
       "text": [
        "\r",
        " [-----------------81%----------        ] 16215 of 20000 complete in 24.5 sec"
       ]
      },
      {
       "output_type": "stream",
       "stream": "stdout",
       "text": [
        "\r",
        " [-----------------82%-----------       ] 16507 of 20000 complete in 25.0 sec"
       ]
      },
      {
       "output_type": "stream",
       "stream": "stdout",
       "text": [
        "\r",
        " [-----------------83%-----------       ] 16796 of 20000 complete in 25.5 sec"
       ]
      },
      {
       "output_type": "stream",
       "stream": "stdout",
       "text": [
        "\r",
        " [-----------------85%------------      ] 17097 of 20000 complete in 26.0 sec"
       ]
      },
      {
       "output_type": "stream",
       "stream": "stdout",
       "text": [
        "\r",
        " [-----------------87%-------------     ] 17400 of 20000 complete in 26.5 sec"
       ]
      },
      {
       "output_type": "stream",
       "stream": "stdout",
       "text": [
        "\r",
        " [-----------------88%-------------     ] 17703 of 20000 complete in 27.0 sec"
       ]
      },
      {
       "output_type": "stream",
       "stream": "stdout",
       "text": [
        "\r",
        " [-----------------90%--------------    ] 18003 of 20000 complete in 27.5 sec"
       ]
      },
      {
       "output_type": "stream",
       "stream": "stdout",
       "text": [
        "\r",
        " [-----------------91%--------------    ] 18303 of 20000 complete in 28.0 sec"
       ]
      },
      {
       "output_type": "stream",
       "stream": "stdout",
       "text": [
        "\r",
        " [-----------------93%---------------   ] 18604 of 20000 complete in 28.5 sec"
       ]
      },
      {
       "output_type": "stream",
       "stream": "stdout",
       "text": [
        "\r",
        " [-----------------94%---------------   ] 18905 of 20000 complete in 29.0 sec"
       ]
      },
      {
       "output_type": "stream",
       "stream": "stdout",
       "text": [
        "\r",
        " [-----------------96%----------------  ] 19208 of 20000 complete in 29.5 sec"
       ]
      },
      {
       "output_type": "stream",
       "stream": "stdout",
       "text": [
        "\r",
        " [-----------------97%----------------- ] 19510 of 20000 complete in 30.0 sec"
       ]
      },
      {
       "output_type": "stream",
       "stream": "stdout",
       "text": [
        "\r",
        " [-----------------99%----------------- ] 19807 of 20000 complete in 30.5 sec"
       ]
      },
      {
       "output_type": "stream",
       "stream": "stdout",
       "text": [
        "\r",
        " [-----------------100%-----------------] 20000 of 20000 complete in 30.9 sec"
       ]
      },
      {
       "output_type": "stream",
       "stream": "stdout",
       "text": [
        "0.0\n",
        "1.0\n"
       ]
      },
      {
       "metadata": {},
       "output_type": "display_data",
       "png": "[encoded data removed]",
       "text": [
        "<matplotlib.figure.Figure at 0xa8ebfacc>"
       ]
      }
     ],
     "prompt_number": 21
    },
    {
     "cell_type": "code",
     "collapsed": false,
     "input": [],
     "language": "python",
     "metadata": {},
     "outputs": []
    }
   ],
   "metadata": {}
  }
 ]
}