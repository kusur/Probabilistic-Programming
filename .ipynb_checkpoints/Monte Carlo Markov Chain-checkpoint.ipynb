{
 "metadata": {
  "name": "",
  "signature": "sha256:76a9d4695dac089ffae94396772aa367948daa1155a59524e0373258319e70d4"
 },
 "nbformat": 3,
 "nbformat_minor": 0,
 "worksheets": []
}